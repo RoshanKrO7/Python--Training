{
 "cells": [
  {
   "cell_type": "code",
   "execution_count": 2,
   "metadata": {},
   "outputs": [
    {
     "name": "stdout",
     "output_type": "stream",
     "text": [
      "*****\n",
      "****\n",
      "***\n",
      "**\n",
      "*\n"
     ]
    }
   ],
   "source": [
    "n = int(input(\"Enter a number: \"))\n",
    "for i in range(n):\n",
    "  for j in range(n):\n",
    "    if i+j<=n-1:\n",
    "      print(\"*\",end=\"\")\n",
    "  print()"
   ]
  },
  {
   "cell_type": "code",
   "execution_count": 3,
   "metadata": {},
   "outputs": [
    {
     "name": "stdout",
     "output_type": "stream",
     "text": [
      "* * * * *\n",
      "*       *\n",
      "*       *\n",
      "*       *\n",
      "* * * * *\n"
     ]
    }
   ],
   "source": [
    "print(\"* * * * *\")\n",
    "print(\"*       *\")\n",
    "print(\"*       *\")\n",
    "print(\"*       *\")\n",
    "print(\"* * * * *\")\n"
   ]
  },
  {
   "cell_type": "code",
   "execution_count": 6,
   "metadata": {},
   "outputs": [
    {
     "name": "stdout",
     "output_type": "stream",
     "text": [
      "* * * * * \n",
      "*       * \n",
      "*       * \n",
      "*       * \n",
      "* * * * * \n"
     ]
    }
   ],
   "source": [
    "n = int(input(\"Enter a number: \"))\n",
    "for i in range(n):\n",
    "  for j in range(n):\n",
    "    if i==0 or i==n-1 or j==0 or j==n-1:\n",
    "      print(\"* \",end=\"\")\n",
    "    else:\n",
    "      print(\"  \",end=\"\")\n",
    "  print()"
   ]
  },
  {
   "cell_type": "code",
   "execution_count": 10,
   "metadata": {},
   "outputs": [
    {
     "name": "stdout",
     "output_type": "stream",
     "text": [
      "* * * * * * * * \n",
      "* *         * * \n",
      "*   *     *   * \n",
      "*     * *     * \n",
      "*     * *     * \n",
      "*   *     *   * \n",
      "* *         * * \n",
      "* * * * * * * * \n"
     ]
    }
   ],
   "source": [
    "n = int(input(\"Enter a number: \"))\n",
    "for i in range(n):\n",
    "    for j in range(n):\n",
    "        if i == 0 or i == n-1 or j == 0 or j == n-1 or i == j or i+j == n-1:\n",
    "            print(\"* \", end=\"\")\n",
    "        else:\n",
    "            print(\"  \", end=\"\")\n",
    "    print()\n"
   ]
  },
  {
   "cell_type": "code",
   "execution_count": 4,
   "metadata": {},
   "outputs": [
    {
     "name": "stdout",
     "output_type": "stream",
     "text": [
      "[0, 0, 0, 0]\n",
      "[0, 0, 0, 0]\n",
      "[0, 0, 0, 0]\n",
      "[0, 0, 0, 0]\n",
      "Energy consumed: 18\n"
     ]
    }
   ],
   "source": [
    "# Initialize the brick block\n",
    "brick_block = [[1, 1, 1, 1],\n",
    "               [1, 1, 1, 1],\n",
    "               [1, 1, 1, 1],\n",
    "               [1, 1, 1, 1]]\n",
    "\n",
    "# Initialize the ball position and energy\n",
    "ball_position = [0, 0]\n",
    "energy = 0\n",
    "\n",
    "# Iterate through the bricks in a clockwise direction\n",
    "for i in range(4):\n",
    "    # Break the top row of bricks\n",
    "    for j in range(i, 4 - i):\n",
    "        brick_block[i][j] = 0\n",
    "        energy += 1\n",
    "\n",
    "    # Break the right column of bricks\n",
    "    for j in range(i + 1, 4 - i):\n",
    "        brick_block[j][3 - i] = 0\n",
    "        energy += 1\n",
    "\n",
    "    # Break the bottom row of bricks\n",
    "    for j in range(3 - i, i, -1):\n",
    "        brick_block[3 - i][j] = 0\n",
    "        energy += 1\n",
    "\n",
    "    # Break the left column of bricks\n",
    "    for j in range(3 - i, i, -1):  # Corrected index range\n",
    "        brick_block[j][i] = 0\n",
    "        energy += 1\n",
    "\n",
    "# Print the updated brick block and energy\n",
    "for row in brick_block:\n",
    "    print(row)\n",
    "print(\"Energy consumed:\", energy)\n"
   ]
  },
  {
   "cell_type": "code",
   "execution_count": 6,
   "metadata": {},
   "outputs": [
    {
     "name": "stdout",
     "output_type": "stream",
     "text": [
      "Enter the amount of money in each vault:\n"
     ]
    },
    {
     "ename": "ValueError",
     "evalue": "invalid literal for int() with base 10: ''",
     "output_type": "error",
     "traceback": [
      "\u001b[1;31m---------------------------------------------------------------------------\u001b[0m",
      "\u001b[1;31mValueError\u001b[0m                                Traceback (most recent call last)",
      "Cell \u001b[1;32mIn[6], line 39\u001b[0m\n\u001b[0;32m     37\u001b[0m \u001b[38;5;28mprint\u001b[39m(\u001b[38;5;124m\"\u001b[39m\u001b[38;5;124mEnter the amount of money in each vault:\u001b[39m\u001b[38;5;124m\"\u001b[39m)\n\u001b[0;32m     38\u001b[0m \u001b[38;5;28;01mfor\u001b[39;00m i \u001b[38;5;129;01min\u001b[39;00m \u001b[38;5;28mrange\u001b[39m(n):\n\u001b[1;32m---> 39\u001b[0m     vault_amount \u001b[38;5;241m=\u001b[39m \u001b[38;5;28;43mint\u001b[39;49m\u001b[43m(\u001b[49m\u001b[38;5;28;43minput\u001b[39;49m\u001b[43m(\u001b[49m\u001b[43m)\u001b[49m\u001b[43m)\u001b[49m\n\u001b[0;32m     40\u001b[0m     vaults\u001b[38;5;241m.\u001b[39mappend(vault_amount)\n\u001b[0;32m     42\u001b[0m \u001b[38;5;28mprint\u001b[39m(\u001b[38;5;124m\"\u001b[39m\u001b[38;5;124mMaximum amount of money that can be emptied without triggering the alarm:\u001b[39m\u001b[38;5;124m\"\u001b[39m, max_money(vaults))\n",
      "\u001b[1;31mValueError\u001b[0m: invalid literal for int() with base 10: ''"
     ]
    }
   ],
   "source": [
    "def max_money(vaults):\n",
    "    n = len(vaults)\n",
    "    \n",
    "    if n == 0:\n",
    "        return 0\n",
    "    elif n <= 2:\n",
    "        return max(vaults)\n",
    "    \n",
    "    # Initialize dp array to store maximum money that can be emptied up to ith vault\n",
    "    dp = [0] * n\n",
    "    \n",
    "    # Base cases\n",
    "    dp[0] = vaults[0]\n",
    "    dp[1] = max(vaults[0], vaults[1])\n",
    "    \n",
    "    for i in range(2, n):\n",
    "        # Maximum money if we don't select current vault\n",
    "        dp[i] = dp[i - 1]\n",
    "        \n",
    "        # Maximum money if we select current vault\n",
    "        if i >= 3:\n",
    "            dp[i] = max(dp[i], vaults[i] + dp[i - 2], vaults[i] + dp[i - 3])\n",
    "        elif i >= 1:\n",
    "            dp[i] = max(dp[i], vaults[i] + dp[i - 2])\n",
    "        else:\n",
    "            dp[i] = max(dp[i], vaults[i])\n",
    "    \n",
    "    # If the last vault is not selected, check if the first vault can be included due to circular arrangement\n",
    "    if dp[-1] != dp[-2]:\n",
    "        dp[-1] = max(dp[-1], vaults[0] + dp[-3])\n",
    "    \n",
    "    return max(dp)\n",
    "\n",
    "# Take input from the user\n",
    "n = int(input(\"Enter the number of vaults: \"))\n",
    "vaults = []\n",
    "print(\"Enter the amount of money in each vault:\")\n",
    "for i in range(n):\n",
    "    vault_amount = int(input())\n",
    "    vaults.append(vault_amount)\n",
    "\n",
    "print(\"Maximum amount of money that can be emptied without triggering the alarm:\", max_money(vaults))\n"
   ]
  },
  {
   "cell_type": "code",
   "execution_count": 7,
   "metadata": {},
   "outputs": [
    {
     "name": "stdout",
     "output_type": "stream",
     "text": [
      "Harmonic numbers:\n",
      "1.0\n",
      "0.5\n",
      "0.3333333333333333\n",
      "0.25\n",
      "0.2\n"
     ]
    }
   ],
   "source": []
  },
  {
   "cell_type": "code",
   "execution_count": 11,
   "metadata": {},
   "outputs": [
    {
     "name": "stdout",
     "output_type": "stream",
     "text": [
      "Result: 0\n"
     ]
    }
   ],
   "source": [
    "import math\n",
    "\n",
    "def compute_H(A, r, MOD):\n",
    "    product = 1\n",
    "    for i in range(1, r + 1):\n",
    "        product *= math.factorial(A[i])\n",
    "    return product % MOD\n",
    "\n",
    "# Take input from the user\n",
    "A = [int(x) for x in input(\"Enter space-separated values of A: \").split()]\n",
    "r = int(input(\"Enter the value of r: \"))\n",
    "MOD = int(input(\"Enter the value of MOD: \"))\n",
    "\n",
    "result = compute_H(A, r, MOD)\n",
    "print(\"Result:\", result)\n"
   ]
  }
 ],
 "metadata": {
  "kernelspec": {
   "display_name": "Python 3",
   "language": "python",
   "name": "python3"
  },
  "language_info": {
   "codemirror_mode": {
    "name": "ipython",
    "version": 3
   },
   "file_extension": ".py",
   "mimetype": "text/x-python",
   "name": "python",
   "nbconvert_exporter": "python",
   "pygments_lexer": "ipython3",
   "version": "3.12.0"
  }
 },
 "nbformat": 4,
 "nbformat_minor": 2
}
