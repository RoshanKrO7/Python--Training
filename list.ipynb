{
 "cells": [
  {
   "cell_type": "code",
   "execution_count": 1,
   "metadata": {},
   "outputs": [
    {
     "name": "stdout",
     "output_type": "stream",
     "text": [
      "bat\n",
      "['rat', 'cat', 'bat', 'mat']\n",
      "['mat', 'bat', 'cat', 'rat']\n",
      "yes\n",
      "['rat', 'dog', 'mat']\n",
      "['rat', 'dog', 'mat', 'bat']\n",
      "['rat', 'dog', 'bat', 'mat', 'bat']\n",
      "['rat', 'dog', 'bat', 'mat', 'bat', True, False, True]\n",
      "['rat', 'dog', 'mat', 'bat', True, False, True]\n",
      "['rat', 'dog', 'mat', True, False, True]\n",
      "['dog', 'mat', True, False, True]\n",
      "[]\n"
     ]
    }
   ],
   "source": [
    "a=[\"rat\",\"cat\",\"bat\",\"mat\"]\n",
    "b=list((\"pat\"))\n",
    "c=list([10,20,30,40,50])\n",
    "d=[True,False,True]\n",
    "print(a[2])\n",
    "print(a[0:4])\n",
    "print(a[::-1])\n",
    "if \"cat\" in a:\n",
    "    print(\"yes\")\n",
    "a[1:3]=[\"dog\"]\n",
    "print(a)\n",
    "a.append(\"bat\")\n",
    "print(a)\n",
    "a.insert(2,\"bat\")\n",
    "print(a)\n",
    "a.extend(d)\n",
    "print(a)\n",
    "a.remove(\"bat\")\n",
    "print(a)\n",
    "a.pop(3)\n",
    "print(a)\n",
    "del a[0]\n",
    "print(a)\n",
    "a.clear()\n",
    "print(a)\n"
   ]
  },
  {
   "cell_type": "code",
   "execution_count": 5,
   "metadata": {},
   "outputs": [
    {
     "name": "stdout",
     "output_type": "stream",
     "text": [
      "['apple', 'cherry', 'orange', 'banana', 'melon', 'mango']\n",
      "['apple', 'cherry', 'orange', 'melon', 'mango']\n",
      "[]\n",
      "['banana', 'cherry', 'orange', 'banana', 'melon', 'mango']\n"
     ]
    }
   ],
   "source": [
    "list1=[\"apple\",\"banana\",\"cherry\",\"orange\",\"banana\",\"melon\",\"mango\"]\n",
    "list1.remove(\"banana\")\n",
    "print(list1)\n",
    "list1.pop(3)\n",
    "print(list1)\n",
    "list1.clear()\n",
    "print(list1)\n",
    "list2=[\"apple\",\"banana\",\"cherry\",\"orange\",\"banana\",\"melon\",\"mango\"]\n",
    "del list2[0]\n",
    "print(list2)"
   ]
  },
  {
   "cell_type": "code",
   "execution_count": 6,
   "metadata": {},
   "outputs": [
    {
     "name": "stdout",
     "output_type": "stream",
     "text": [
      "apple\n",
      "banana\n",
      "cherry\n",
      "orange\n",
      "banana\n",
      "melon\n",
      "mango\n"
     ]
    }
   ],
   "source": [
    "list1=[\"apple\",\"banana\",\"cherry\",\"orange\",\"banana\",\"melon\",\"mango\"]\n",
    "for x in list1:\n",
    "    print(x)"
   ]
  },
  {
   "cell_type": "code",
   "execution_count": 7,
   "metadata": {},
   "outputs": [
    {
     "name": "stdout",
     "output_type": "stream",
     "text": [
      "apple\n",
      "banana\n",
      "cherry\n",
      "orange\n",
      "banana\n",
      "melon\n",
      "mango\n"
     ]
    }
   ],
   "source": [
    "list1=[\"apple\",\"banana\",\"cherry\",\"orange\",\"banana\",\"melon\",\"mango\"]\n",
    "for i in range(len(list1)):\n",
    "    print(list1[i])"
   ]
  },
  {
   "cell_type": "code",
   "execution_count": 9,
   "metadata": {},
   "outputs": [
    {
     "name": "stdout",
     "output_type": "stream",
     "text": [
      "apple\n",
      "banana\n",
      "cherry\n",
      "orange\n",
      "banana\n",
      "melon\n",
      "mango\n"
     ]
    }
   ],
   "source": [
    "list1=[\"apple\",\"banana\",\"cherry\",\"orange\",\"banana\",\"melon\",\"mango\"]\n",
    "i = 0\n",
    "while i < len(list1):\n",
    "    print(list1[i])\n",
    "    i += 1\n"
   ]
  },
  {
   "cell_type": "code",
   "execution_count": 14,
   "metadata": {},
   "outputs": [
    {
     "name": "stdout",
     "output_type": "stream",
     "text": [
      "['apple', 'banana', 'orange', 'banana', 'mango']\n"
     ]
    }
   ],
   "source": [
    "\n",
    "list1=[\"apple\",\"banana\",\"cherry\",\"orange\",\"banana\",\"melon\",\"mango\"]\n",
    "newlist=[x for x in list1 if \"a\" in x]\n",
    "print(newlist)\n"
   ]
  },
  {
   "cell_type": "code",
   "execution_count": 20,
   "metadata": {},
   "outputs": [
    {
     "name": "stdout",
     "output_type": "stream",
     "text": [
      "['apple', 'banana', 'banana', 'cherry', 'mango', 'melon', 'orange']\n",
      "[78, 67, 45, 23, 22, 10, 7]\n"
     ]
    }
   ],
   "source": [
    "list1=[\"apple\",\"banana\",\"cherry\",\"orange\",\"banana\",\"melon\",\"mango\"]\n",
    "list2=[10,7,23,67,22,45,78]\n",
    "list1.sort()\n",
    "list2.sort(reverse=True)\n",
    "print(list1)\n",
    "print(list2)"
   ]
  },
  {
   "cell_type": "code",
   "execution_count": 21,
   "metadata": {},
   "outputs": [
    {
     "name": "stdout",
     "output_type": "stream",
     "text": [
      "[45, 67, 23, 78, 22, 10, 7]\n"
     ]
    }
   ],
   "source": [
    "def myfunc(n):\n",
    "    return abs(n-50)\n",
    "list2.sort(key=myfunc)\n",
    "print(list2)"
   ]
  },
  {
   "cell_type": "code",
   "execution_count": 22,
   "metadata": {},
   "outputs": [
    {
     "name": "stdout",
     "output_type": "stream",
     "text": [
      "Minimum value: 7\n",
      "Maximum value: 78\n"
     ]
    }
   ],
   "source": [
    "print(\"Minimum value:\", min(list2))\n",
    "print(\"Maximum value:\", max(list2))\n"
   ]
  },
  {
   "cell_type": "code",
   "execution_count": 24,
   "metadata": {},
   "outputs": [
    {
     "name": "stdout",
     "output_type": "stream",
     "text": [
      "Average: 252\n",
      "Average: 36.0\n"
     ]
    }
   ],
   "source": [
    "print(\"Average:\",sum(list2))\n",
    "print(\"Average:\",sum(list2)/len(list2))"
   ]
  },
  {
   "cell_type": "code",
   "execution_count": 26,
   "metadata": {},
   "outputs": [
    {
     "name": "stdout",
     "output_type": "stream",
     "text": [
      "2\n"
     ]
    }
   ],
   "source": [
    "\n",
    "count = 0\n",
    "list1=[10,7,23,67,22,45,10]\n",
    "a=10\n",
    "for i in list1:\n",
    "    if i == a:\n",
    "        count += 1\n",
    "print(count)"
   ]
  },
  {
   "cell_type": "markdown",
   "metadata": {},
   "source": [
    "WAP to swap the  first anbd last element in the list"
   ]
  },
  {
   "cell_type": "code",
   "execution_count": 4,
   "metadata": {},
   "outputs": [
    {
     "name": "stdout",
     "output_type": "stream",
     "text": [
      "[5, 2, 3, 4, 1]\n"
     ]
    }
   ],
   "source": [
    "def swap_first_last(lst):\n",
    "    if len(lst) >= 2:\n",
    "        lst[0], lst[-1] = lst[-1], lst[0]\n",
    "    return lst\n",
    "    # size=len(list1)\n",
    "    # temp=list1[0]\n",
    "    # list1[0]=list1[size-1]\n",
    "    # list1[size-1]=temp\n",
    "    return list1\n",
    "list1 = [1, 2, 3, 4, 5]\n",
    "list = swap_first_last(list1)\n",
    "print(list)"
   ]
  },
  {
   "cell_type": "markdown",
   "metadata": {},
   "source": [
    "WAP to swap the elements at the given position"
   ]
  },
  {
   "cell_type": "code",
   "execution_count": 1,
   "metadata": {},
   "outputs": [
    {
     "name": "stdout",
     "output_type": "stream",
     "text": [
      "[3, 2, 1, 4, 5]\n"
     ]
    }
   ],
   "source": [
    "def swaplist(lst, pos1, pos2):\n",
    "    temp=lst[pos1]\n",
    "    lst[pos1]=lst[pos2]\n",
    "    lst[pos2]=temp\n",
    "    return lst\n",
    "\n",
    "list1 = [1, 2, 3, 4, 5]\n",
    "pos1, pos2 = 1, 3\n",
    "result = swaplist(list1, pos1-1, pos2-1)\n",
    "print(result)\n"
   ]
  },
  {
   "cell_type": "markdown",
   "metadata": {},
   "source": [
    "WAP to find the count of unique element in the list"
   ]
  },
  {
   "cell_type": "code",
   "execution_count": 7,
   "metadata": {},
   "outputs": [
    {
     "name": "stdout",
     "output_type": "stream",
     "text": [
      "[1, 2, 3, 4, 5, 9]\n"
     ]
    }
   ],
   "source": [
    "list1 = [1, 2, 3, 4, 5, 5, 2, 3, 4, 9]\n",
    "l1 = []\n",
    "[l1.append(item) for item in list1 if item not in l1]\n",
    "print(l1)\n"
   ]
  },
  {
   "cell_type": "markdown",
   "metadata": {},
   "source": [
    "duplicate removal list product"
   ]
  },
  {
   "cell_type": "code",
   "execution_count": 13,
   "metadata": {},
   "outputs": [
    {
     "name": "stdout",
     "output_type": "stream",
     "text": [
      "The original list is:  [1, 2, 3, 4, 5, 5, 2, 3, 4, 9]\n",
      "The list after removing duplicates:  [1, 2, 3, 4, 5, 9]\n",
      "The product of the list is:  1080\n"
     ]
    }
   ],
   "source": [
    "def prod(lst):\n",
    "    result = 1\n",
    "    for i in lst:\n",
    "        result *= i\n",
    "    return result\n",
    "list1 = [1, 2, 3, 4, 5, 5, 2, 3, 4, 9]\n",
    "print(\"The original list is: \", list1)\n",
    "result=[]\n",
    "[result.append(x) for x in list1 if x not in result]\n",
    "print(\"The list after removing duplicates: \", result)\n",
    "res=prod(result)\n",
    "print(\"The product of the list is: \", res)"
   ]
  },
  {
   "cell_type": "markdown",
   "metadata": {},
   "source": [
    "WAP to extract a elemnet with a frequncy greater than K"
   ]
  },
  {
   "cell_type": "code",
   "execution_count": 14,
   "metadata": {},
   "outputs": [
    {
     "name": "stdout",
     "output_type": "stream",
     "text": [
      "The original list is:  [4, 6, 4, 2, 5, 6, 2, 5, 7, 4, 2, 1, 5, 3, 2, 7]\n",
      "The elements with frequency greater than k are:  [4, 6, 2, 5, 7]\n"
     ]
    }
   ],
   "source": [
    "test_list=[4,6,4,2,5,6,2,5,7,4,2,1,5,3,2,7]\n",
    "print(\"The original list is: \", test_list)\n",
    "res=[]\n",
    "k=2\n",
    "for i in test_list:\n",
    "    freq=test_list.count(i)\n",
    "    if freq>=k and i not in res:\n",
    "        res.append(i)\n",
    "print(\"The elements with frequency greater than k are: \", res)\n"
   ]
  },
  {
   "cell_type": "markdown",
   "metadata": {},
   "source": [
    "Test if the list contains elemnts in a range"
   ]
  },
  {
   "cell_type": "code",
   "execution_count": null,
   "metadata": {},
   "outputs": [],
   "source": []
  },
  {
   "cell_type": "markdown",
   "metadata": {},
   "source": [
    "Partition a list around the given value such that the elemnts less than the value come before it and the elements greater than the value come after"
   ]
  },
  {
   "cell_type": "code",
   "execution_count": 16,
   "metadata": {},
   "outputs": [
    {
     "ename": "TypeError",
     "evalue": "'list' object is not callable",
     "output_type": "error",
     "traceback": [
      "\u001b[1;31m---------------------------------------------------------------------------\u001b[0m",
      "\u001b[1;31mTypeError\u001b[0m                                 Traceback (most recent call last)",
      "Cell \u001b[1;32mIn[16], line 6\u001b[0m\n\u001b[0;32m      4\u001b[0m set2\u001b[38;5;241m=\u001b[39m\u001b[38;5;28mset\u001b[39m(list12)\n\u001b[0;32m      5\u001b[0m set3\u001b[38;5;241m=\u001b[39mset1\u001b[38;5;241m.\u001b[39mintersection(set2)\n\u001b[1;32m----> 6\u001b[0m list3\u001b[38;5;241m=\u001b[39m\u001b[38;5;28;43mlist\u001b[39;49m\u001b[43m(\u001b[49m\u001b[43mset3\u001b[49m\u001b[43m)\u001b[49m\n\u001b[0;32m      7\u001b[0m \u001b[38;5;28mprint\u001b[39m(list3)\n",
      "\u001b[1;31mTypeError\u001b[0m: 'list' object is not callable"
     ]
    }
   ],
   "source": [
    "list11=[1,2,3,4,5,6]\n",
    "list12=[4,5,6,7,8,9,10]\n",
    "set1=set(list11)\n",
    "set2=set(list12)\n",
    "set3=set1.intersection(set2)\n",
    "list3=list(set3)\n",
    "print(list3)\n",
    "\n"
   ]
  },
  {
   "cell_type": "markdown",
   "metadata": {},
   "source": [
    "Find the sum of the largest sub array"
   ]
  },
  {
   "cell_type": "code",
   "execution_count": null,
   "metadata": {},
   "outputs": [],
   "source": []
  },
  {
   "cell_type": "markdown",
   "metadata": {},
   "source": [
    "to find the peak element in the list (element which is greater than or equal to its neighbour)"
   ]
  },
  {
   "cell_type": "code",
   "execution_count": null,
   "metadata": {},
   "outputs": [],
   "source": []
  },
  {
   "cell_type": "markdown",
   "metadata": {},
   "source": [
    "to merge two sorted list into a single sorted list"
   ]
  }
 ],
 "metadata": {
  "kernelspec": {
   "display_name": "Python 3",
   "language": "python",
   "name": "python3"
  },
  "language_info": {
   "codemirror_mode": {
    "name": "ipython",
    "version": 3
   },
   "file_extension": ".py",
   "mimetype": "text/x-python",
   "name": "python",
   "nbconvert_exporter": "python",
   "pygments_lexer": "ipython3",
   "version": "3.12.0"
  }
 },
 "nbformat": 4,
 "nbformat_minor": 2
}
