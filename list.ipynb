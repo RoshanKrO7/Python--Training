{
 "cells": [
  {
   "cell_type": "code",
   "execution_count": 1,
   "metadata": {},
   "outputs": [
    {
     "name": "stdout",
     "output_type": "stream",
     "text": [
      "bat\n",
      "['rat', 'cat', 'bat', 'mat']\n",
      "['mat', 'bat', 'cat', 'rat']\n",
      "yes\n",
      "['rat', 'dog', 'mat']\n",
      "['rat', 'dog', 'mat', 'bat']\n",
      "['rat', 'dog', 'bat', 'mat', 'bat']\n",
      "['rat', 'dog', 'bat', 'mat', 'bat', True, False, True]\n",
      "['rat', 'dog', 'mat', 'bat', True, False, True]\n",
      "['rat', 'dog', 'mat', True, False, True]\n",
      "['dog', 'mat', True, False, True]\n",
      "[]\n"
     ]
    }
   ],
   "source": [
    "a=[\"rat\",\"cat\",\"bat\",\"mat\"]\n",
    "b=list((\"pat\"))\n",
    "c=list([10,20,30,40,50])\n",
    "d=[True,False,True]\n",
    "print(a[2])\n",
    "print(a[0:4])\n",
    "print(a[::-1])\n",
    "if \"cat\" in a:\n",
    "    print(\"yes\")\n",
    "a[1:3]=[\"dog\"]\n",
    "print(a)\n",
    "a.append(\"bat\")\n",
    "print(a)\n",
    "a.insert(2,\"bat\")\n",
    "print(a)\n",
    "a.extend(d)\n",
    "print(a)\n",
    "a.remove(\"bat\")\n",
    "print(a)\n",
    "a.pop(3)\n",
    "print(a)\n",
    "del a[0]\n",
    "print(a)\n",
    "a.clear()\n",
    "print(a)\n"
   ]
  },
  {
   "cell_type": "code",
   "execution_count": 5,
   "metadata": {},
   "outputs": [
    {
     "name": "stdout",
     "output_type": "stream",
     "text": [
      "['apple', 'cherry', 'orange', 'banana', 'melon', 'mango']\n",
      "['apple', 'cherry', 'orange', 'melon', 'mango']\n",
      "[]\n",
      "['banana', 'cherry', 'orange', 'banana', 'melon', 'mango']\n"
     ]
    }
   ],
   "source": [
    "list1=[\"apple\",\"banana\",\"cherry\",\"orange\",\"banana\",\"melon\",\"mango\"]\n",
    "list1.remove(\"banana\")\n",
    "print(list1)\n",
    "list1.pop(3)\n",
    "print(list1)\n",
    "list1.clear()\n",
    "print(list1)\n",
    "list2=[\"apple\",\"banana\",\"cherry\",\"orange\",\"banana\",\"melon\",\"mango\"]\n",
    "del list2[0]\n",
    "print(list2)"
   ]
  },
  {
   "cell_type": "code",
   "execution_count": 6,
   "metadata": {},
   "outputs": [
    {
     "name": "stdout",
     "output_type": "stream",
     "text": [
      "apple\n",
      "banana\n",
      "cherry\n",
      "orange\n",
      "banana\n",
      "melon\n",
      "mango\n"
     ]
    }
   ],
   "source": [
    "list1=[\"apple\",\"banana\",\"cherry\",\"orange\",\"banana\",\"melon\",\"mango\"]\n",
    "for x in list1:\n",
    "    print(x)"
   ]
  },
  {
   "cell_type": "code",
   "execution_count": 7,
   "metadata": {},
   "outputs": [
    {
     "name": "stdout",
     "output_type": "stream",
     "text": [
      "apple\n",
      "banana\n",
      "cherry\n",
      "orange\n",
      "banana\n",
      "melon\n",
      "mango\n"
     ]
    }
   ],
   "source": [
    "list1=[\"apple\",\"banana\",\"cherry\",\"orange\",\"banana\",\"melon\",\"mango\"]\n",
    "for i in range(len(list1)):\n",
    "    print(list1[i])"
   ]
  },
  {
   "cell_type": "code",
   "execution_count": 9,
   "metadata": {},
   "outputs": [
    {
     "name": "stdout",
     "output_type": "stream",
     "text": [
      "apple\n",
      "banana\n",
      "cherry\n",
      "orange\n",
      "banana\n",
      "melon\n",
      "mango\n"
     ]
    }
   ],
   "source": [
    "list1=[\"apple\",\"banana\",\"cherry\",\"orange\",\"banana\",\"melon\",\"mango\"]\n",
    "i = 0\n",
    "while i < len(list1):\n",
    "    print(list1[i])\n",
    "    i += 1\n"
   ]
  },
  {
   "cell_type": "code",
   "execution_count": 14,
   "metadata": {},
   "outputs": [
    {
     "name": "stdout",
     "output_type": "stream",
     "text": [
      "['apple', 'banana', 'orange', 'banana', 'mango']\n"
     ]
    }
   ],
   "source": [
    "\n",
    "list1=[\"apple\",\"banana\",\"cherry\",\"orange\",\"banana\",\"melon\",\"mango\"]\n",
    "newlist=[x for x in list1 if \"a\" in x]\n",
    "print(newlist)\n"
   ]
  },
  {
   "cell_type": "code",
   "execution_count": 20,
   "metadata": {},
   "outputs": [
    {
     "name": "stdout",
     "output_type": "stream",
     "text": [
      "['apple', 'banana', 'banana', 'cherry', 'mango', 'melon', 'orange']\n",
      "[78, 67, 45, 23, 22, 10, 7]\n"
     ]
    }
   ],
   "source": [
    "list1=[\"apple\",\"banana\",\"cherry\",\"orange\",\"banana\",\"melon\",\"mango\"]\n",
    "list2=[10,7,23,67,22,45,78]\n",
    "list1.sort()\n",
    "list2.sort(reverse=True)\n",
    "print(list1)\n",
    "print(list2)"
   ]
  },
  {
   "cell_type": "code",
   "execution_count": 21,
   "metadata": {},
   "outputs": [
    {
     "name": "stdout",
     "output_type": "stream",
     "text": [
      "[45, 67, 23, 78, 22, 10, 7]\n"
     ]
    }
   ],
   "source": [
    "def myfunc(n):\n",
    "    return abs(n-50)\n",
    "list2.sort(key=myfunc)\n",
    "print(list2)"
   ]
  },
  {
   "cell_type": "code",
   "execution_count": 22,
   "metadata": {},
   "outputs": [
    {
     "name": "stdout",
     "output_type": "stream",
     "text": [
      "Minimum value: 7\n",
      "Maximum value: 78\n"
     ]
    }
   ],
   "source": [
    "print(\"Minimum value:\", min(list2))\n",
    "print(\"Maximum value:\", max(list2))\n"
   ]
  },
  {
   "cell_type": "code",
   "execution_count": 24,
   "metadata": {},
   "outputs": [
    {
     "name": "stdout",
     "output_type": "stream",
     "text": [
      "Average: 252\n",
      "Average: 36.0\n"
     ]
    }
   ],
   "source": [
    "print(\"Average:\",sum(list2))\n",
    "print(\"Average:\",sum(list2)/len(list2))"
   ]
  },
  {
   "cell_type": "code",
   "execution_count": 26,
   "metadata": {},
   "outputs": [
    {
     "name": "stdout",
     "output_type": "stream",
     "text": [
      "2\n"
     ]
    }
   ],
   "source": [
    "\n",
    "count = 0\n",
    "list1=[10,7,23,67,22,45,10]\n",
    "a=10\n",
    "for i in list1:\n",
    "    if i == a:\n",
    "        count += 1\n",
    "print(count)"
   ]
  },
  {
   "cell_type": "markdown",
   "metadata": {},
   "source": [
    "WAP to swap the  first anbd last element in the list"
   ]
  },
  {
   "cell_type": "code",
   "execution_count": null,
   "metadata": {},
   "outputs": [],
   "source": []
  },
  {
   "cell_type": "markdown",
   "metadata": {},
   "source": [
    "WAP to swap the elements at the given position"
   ]
  },
  {
   "cell_type": "code",
   "execution_count": null,
   "metadata": {},
   "outputs": [],
   "source": []
  },
  {
   "cell_type": "markdown",
   "metadata": {},
   "source": [
    "WAP to find the unique element in the list"
   ]
  },
  {
   "cell_type": "code",
   "execution_count": null,
   "metadata": {},
   "outputs": [],
   "source": []
  },
  {
   "cell_type": "markdown",
   "metadata": {},
   "source": []
  },
  {
   "cell_type": "markdown",
   "metadata": {},
   "source": [
    "WAP to extract a elemnt with a frequncy greater than K"
   ]
  },
  {
   "cell_type": "code",
   "execution_count": null,
   "metadata": {},
   "outputs": [],
   "source": []
  },
  {
   "cell_type": "markdown",
   "metadata": {},
   "source": [
    "Test if the list contains elemnts in a range"
   ]
  },
  {
   "cell_type": "code",
   "execution_count": null,
   "metadata": {},
   "outputs": [],
   "source": []
  },
  {
   "cell_type": "markdown",
   "metadata": {},
   "source": [
    "Partition a list around the given value such that the elemnts less than the value come before it and the elements greater than the value come after"
   ]
  },
  {
   "cell_type": "code",
   "execution_count": null,
   "metadata": {},
   "outputs": [],
   "source": []
  },
  {
   "cell_type": "markdown",
   "metadata": {},
   "source": [
    "Find the sum of the largest sub array"
   ]
  },
  {
   "cell_type": "code",
   "execution_count": null,
   "metadata": {},
   "outputs": [],
   "source": []
  },
  {
   "cell_type": "markdown",
   "metadata": {},
   "source": [
    "to find the peak element in the list (element which is greater than or equal to its neighbour)"
   ]
  }
 ],
 "metadata": {
  "kernelspec": {
   "display_name": "Python 3",
   "language": "python",
   "name": "python3"
  },
  "language_info": {
   "codemirror_mode": {
    "name": "ipython",
    "version": 3
   },
   "file_extension": ".py",
   "mimetype": "text/x-python",
   "name": "python",
   "nbconvert_exporter": "python",
   "pygments_lexer": "ipython3",
   "version": "3.12.0"
  }
 },
 "nbformat": 4,
 "nbformat_minor": 2
}
