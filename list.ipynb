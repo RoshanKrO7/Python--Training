{
 "cells": [
  {
   "cell_type": "code",
   "execution_count": 1,
   "metadata": {},
   "outputs": [
    {
     "name": "stdout",
     "output_type": "stream",
     "text": [
      "bat\n",
      "['rat', 'cat', 'bat', 'mat']\n",
      "['mat', 'bat', 'cat', 'rat']\n",
      "yes\n",
      "['rat', 'dog', 'mat']\n",
      "['rat', 'dog', 'mat', 'bat']\n",
      "['rat', 'dog', 'bat', 'mat', 'bat']\n",
      "['rat', 'dog', 'bat', 'mat', 'bat', True, False, True]\n",
      "['rat', 'dog', 'mat', 'bat', True, False, True]\n",
      "['rat', 'dog', 'mat', True, False, True]\n",
      "['dog', 'mat', True, False, True]\n",
      "[]\n"
     ]
    }
   ],
   "source": [
    "a=[\"rat\",\"cat\",\"bat\",\"mat\"]\n",
    "b=list((\"pat\"))\n",
    "c=list([10,20,30,40,50])\n",
    "d=[True,False,True]\n",
    "print(a[2])\n",
    "print(a[0:4])\n",
    "print(a[::-1])\n",
    "if \"cat\" in a:\n",
    "    print(\"yes\")\n",
    "a[1:3]=[\"dog\"]\n",
    "print(a)\n",
    "a.append(\"bat\")\n",
    "print(a)\n",
    "a.insert(2,\"bat\")\n",
    "print(a)\n",
    "a.extend(d)\n",
    "print(a)\n",
    "a.remove(\"bat\")\n",
    "print(a)\n",
    "a.pop(3)\n",
    "print(a)\n",
    "del a[0]\n",
    "print(a)\n",
    "a.clear()\n",
    "print(a)\n"
   ]
  },
  {
   "cell_type": "code",
   "execution_count": 5,
   "metadata": {},
   "outputs": [
    {
     "name": "stdout",
     "output_type": "stream",
     "text": [
      "['apple', 'cherry', 'orange', 'banana', 'melon', 'mango']\n",
      "['apple', 'cherry', 'orange', 'melon', 'mango']\n",
      "[]\n",
      "['banana', 'cherry', 'orange', 'banana', 'melon', 'mango']\n"
     ]
    }
   ],
   "source": [
    "list1=[\"apple\",\"banana\",\"cherry\",\"orange\",\"banana\",\"melon\",\"mango\"]\n",
    "list1.remove(\"banana\")\n",
    "print(list1)\n",
    "list1.pop(3)\n",
    "print(list1)\n",
    "list1.clear()\n",
    "print(list1)\n",
    "list2=[\"apple\",\"banana\",\"cherry\",\"orange\",\"banana\",\"melon\",\"mango\"]\n",
    "del list2[0]\n",
    "print(list2)"
   ]
  },
  {
   "cell_type": "code",
   "execution_count": 6,
   "metadata": {},
   "outputs": [
    {
     "name": "stdout",
     "output_type": "stream",
     "text": [
      "apple\n",
      "banana\n",
      "cherry\n",
      "orange\n",
      "banana\n",
      "melon\n",
      "mango\n"
     ]
    }
   ],
   "source": [
    "list1=[\"apple\",\"banana\",\"cherry\",\"orange\",\"banana\",\"melon\",\"mango\"]\n",
    "for x in list1:\n",
    "    print(x)"
   ]
  },
  {
   "cell_type": "code",
   "execution_count": 7,
   "metadata": {},
   "outputs": [
    {
     "name": "stdout",
     "output_type": "stream",
     "text": [
      "apple\n",
      "banana\n",
      "cherry\n",
      "orange\n",
      "banana\n",
      "melon\n",
      "mango\n"
     ]
    }
   ],
   "source": [
    "list1=[\"apple\",\"banana\",\"cherry\",\"orange\",\"banana\",\"melon\",\"mango\"]\n",
    "for i in range(len(list1)):\n",
    "    print(list1[i])"
   ]
  },
  {
   "cell_type": "code",
   "execution_count": 9,
   "metadata": {},
   "outputs": [
    {
     "name": "stdout",
     "output_type": "stream",
     "text": [
      "apple\n",
      "banana\n",
      "cherry\n",
      "orange\n",
      "banana\n",
      "melon\n",
      "mango\n"
     ]
    }
   ],
   "source": [
    "list1=[\"apple\",\"banana\",\"cherry\",\"orange\",\"banana\",\"melon\",\"mango\"]\n",
    "i = 0\n",
    "while i < len(list1):\n",
    "    print(list1[i])\n",
    "    i += 1\n"
   ]
  },
  {
   "cell_type": "code",
   "execution_count": 14,
   "metadata": {},
   "outputs": [
    {
     "name": "stdout",
     "output_type": "stream",
     "text": [
      "['apple', 'banana', 'orange', 'banana', 'mango']\n"
     ]
    }
   ],
   "source": [
    "\n",
    "list1=[\"apple\",\"banana\",\"cherry\",\"orange\",\"banana\",\"melon\",\"mango\"]\n",
    "newlist=[x for x in list1 if \"a\" in x]\n",
    "print(newlist)\n"
   ]
  },
  {
   "cell_type": "code",
   "execution_count": 20,
   "metadata": {},
   "outputs": [
    {
     "name": "stdout",
     "output_type": "stream",
     "text": [
      "['apple', 'banana', 'banana', 'cherry', 'mango', 'melon', 'orange']\n",
      "[78, 67, 45, 23, 22, 10, 7]\n"
     ]
    }
   ],
   "source": [
    "list1=[\"apple\",\"banana\",\"cherry\",\"orange\",\"banana\",\"melon\",\"mango\"]\n",
    "list2=[10,7,23,67,22,45,78]\n",
    "list1.sort()\n",
    "list2.sort(reverse=True)\n",
    "print(list1)\n",
    "print(list2)"
   ]
  },
  {
   "cell_type": "code",
   "execution_count": 21,
   "metadata": {},
   "outputs": [
    {
     "name": "stdout",
     "output_type": "stream",
     "text": [
      "[45, 67, 23, 78, 22, 10, 7]\n"
     ]
    }
   ],
   "source": [
    "def myfunc(n):\n",
    "    return abs(n-50)\n",
    "list2.sort(key=myfunc)\n",
    "print(list2)"
   ]
  },
  {
   "cell_type": "code",
   "execution_count": 22,
   "metadata": {},
   "outputs": [
    {
     "name": "stdout",
     "output_type": "stream",
     "text": [
      "Minimum value: 7\n",
      "Maximum value: 78\n"
     ]
    }
   ],
   "source": [
    "print(\"Minimum value:\", min(list2))\n",
    "print(\"Maximum value:\", max(list2))\n"
   ]
  },
  {
   "cell_type": "code",
   "execution_count": 24,
   "metadata": {},
   "outputs": [
    {
     "name": "stdout",
     "output_type": "stream",
     "text": [
      "Average: 252\n",
      "Average: 36.0\n"
     ]
    }
   ],
   "source": [
    "print(\"Average:\",sum(list2))\n",
    "print(\"Average:\",sum(list2)/len(list2))"
   ]
  },
  {
   "cell_type": "code",
   "execution_count": 26,
   "metadata": {},
   "outputs": [
    {
     "name": "stdout",
     "output_type": "stream",
     "text": [
      "2\n"
     ]
    }
   ],
   "source": [
    "\n",
    "count = 0\n",
    "list1=[10,7,23,67,22,45,10]\n",
    "a=10\n",
    "for i in list1:\n",
    "    if i == a:\n",
    "        count += 1\n",
    "print(count)"
   ]
  },
  {
   "cell_type": "markdown",
   "metadata": {},
   "source": [
    "WAP to swap the  first anbd last element in the list"
   ]
  },
  {
   "cell_type": "code",
   "execution_count": 4,
   "metadata": {},
   "outputs": [
    {
     "name": "stdout",
     "output_type": "stream",
     "text": [
      "[5, 2, 3, 4, 1]\n"
     ]
    }
   ],
   "source": [
    "def swap_first_last(lst):\n",
    "    if len(lst) >= 2:\n",
    "        lst[0], lst[-1] = lst[-1], lst[0]\n",
    "    return lst\n",
    "    # size=len(list1)\n",
    "    # temp=list1[0]\n",
    "    # list1[0]=list1[size-1]\n",
    "    # list1[size-1]=temp\n",
    "    return list1\n",
    "list1 = [1, 2, 3, 4, 5]\n",
    "list = swap_first_last(list1)\n",
    "print(list)"
   ]
  },
  {
   "cell_type": "markdown",
   "metadata": {},
   "source": [
    "WAP to swap the elements at the given position"
   ]
  },
  {
   "cell_type": "code",
   "execution_count": 1,
   "metadata": {},
   "outputs": [
    {
     "name": "stdout",
     "output_type": "stream",
     "text": [
      "[3, 2, 1, 4, 5]\n"
     ]
    }
   ],
   "source": [
    "def swaplist(lst, pos1, pos2):\n",
    "    temp=lst[pos1]\n",
    "    lst[pos1]=lst[pos2]\n",
    "    lst[pos2]=temp\n",
    "    return lst\n",
    "\n",
    "list1 = [1, 2, 3, 4, 5]\n",
    "pos1, pos2 = 1, 3\n",
    "result = swaplist(list1, pos1-1, pos2-1)\n",
    "print(result)\n"
   ]
  },
  {
   "cell_type": "markdown",
   "metadata": {},
   "source": [
    "WAP to find the count of unique element in the list"
   ]
  },
  {
   "cell_type": "code",
   "execution_count": 7,
   "metadata": {},
   "outputs": [
    {
     "name": "stdout",
     "output_type": "stream",
     "text": [
      "[1, 2, 3, 4, 5, 9]\n"
     ]
    }
   ],
   "source": [
    "list1 = [1, 2, 3, 4, 5, 5, 2, 3, 4, 9]\n",
    "l1 = []\n",
    "[l1.append(item) for item in list1 if item not in l1]\n",
    "print(l1)\n"
   ]
  },
  {
   "cell_type": "markdown",
   "metadata": {},
   "source": [
    "duplicate removal list product"
   ]
  },
  {
   "cell_type": "code",
   "execution_count": 13,
   "metadata": {},
   "outputs": [
    {
     "name": "stdout",
     "output_type": "stream",
     "text": [
      "The original list is:  [1, 2, 3, 4, 5, 5, 2, 3, 4, 9]\n",
      "The list after removing duplicates:  [1, 2, 3, 4, 5, 9]\n",
      "The product of the list is:  1080\n"
     ]
    }
   ],
   "source": [
    "def prod(lst):\n",
    "    result = 1\n",
    "    for i in lst:\n",
    "        result *= i\n",
    "    return result\n",
    "list1 = [1, 2, 3, 4, 5, 5, 2, 3, 4, 9]\n",
    "print(\"The original list is: \", list1)\n",
    "result=[]\n",
    "[result.append(x) for x in list1 if x not in result]\n",
    "print(\"The list after removing duplicates: \", result)\n",
    "res=prod(result)\n",
    "print(\"The product of the list is: \", res)"
   ]
  },
  {
   "cell_type": "markdown",
   "metadata": {},
   "source": [
    "WAP to extract a elemnet with a frequncy greater than K"
   ]
  },
  {
   "cell_type": "code",
   "execution_count": 14,
   "metadata": {},
   "outputs": [
    {
     "name": "stdout",
     "output_type": "stream",
     "text": [
      "The original list is:  [4, 6, 4, 2, 5, 6, 2, 5, 7, 4, 2, 1, 5, 3, 2, 7]\n",
      "The elements with frequency greater than k are:  [4, 6, 2, 5, 7]\n"
     ]
    }
   ],
   "source": [
    "test_list=[4,6,4,2,5,6,2,5,7,4,2,1,5,3,2,7]\n",
    "print(\"The original list is: \", test_list)\n",
    "res=[]\n",
    "k=2\n",
    "for i in test_list:\n",
    "    freq=test_list.count(i)\n",
    "    if freq>=k and i not in res:\n",
    "        res.append(i)\n",
    "print(\"The elements with frequency greater than k are: \", res)\n"
   ]
  },
  {
   "cell_type": "markdown",
   "metadata": {},
   "source": [
    "Test if the list contains elemnts in a range"
   ]
  },
  {
   "cell_type": "code",
   "execution_count": 17,
   "metadata": {},
   "outputs": [
    {
     "name": "stdout",
     "output_type": "stream",
     "text": [
      "The list does not contain elements within the range.\n"
     ]
    }
   ],
   "source": [
    "def contains_elements_in_range(lst, start, end):\n",
    "    return all(start <= x <= end for x in lst)\n",
    "\n",
    "list1 = [1, 2, 3, 4, 5, 6]\n",
    "start = 1\n",
    "end = 5\n",
    "\n",
    "if contains_elements_in_range(list1, start, end):\n",
    "    print(\"The list contains elements within the range.\")\n",
    "else:\n",
    "    print(\"The list does not contain elements within the range.\")\n"
   ]
  },
  {
   "cell_type": "markdown",
   "metadata": {},
   "source": [
    "Partition a list around the given value such that the elemnts less than the value come before it and the elements greater than the value come after"
   ]
  },
  {
   "cell_type": "code",
   "execution_count": 25,
   "metadata": {},
   "outputs": [
    {
     "name": "stdout",
     "output_type": "stream",
     "text": [
      "[2, 1, 3, 4, 4, 6, 5]\n"
     ]
    }
   ],
   "source": [
    "from operator import eq\n",
    "\n",
    "\n",
    "def partition(lst, value):\n",
    "    less_than = []\n",
    "    greater_than = []\n",
    "    equal_to = []\n",
    "    [less_than.append(num) if num < value  else greater_than.append(num) for num in lst]\n",
    "    return less_than + greater_than\n",
    "\n",
    "list1 = [4, 4, 2, 6, 1, 5, 3]\n",
    "value = 4\n",
    "\n",
    "result = partition(list1, value)\n",
    "print(result)\n"
   ]
  },
  {
   "cell_type": "markdown",
   "metadata": {},
   "source": [
    "Find the sum of the largest sub array"
   ]
  },
  {
   "cell_type": "code",
   "execution_count": 21,
   "metadata": {},
   "outputs": [
    {
     "name": "stdout",
     "output_type": "stream",
     "text": [
      "The list is :  [-2, 1, -3, 4, -1, 2, 1, -5, 4]\n",
      "The largest subarray sum is :  6\n"
     ]
    }
   ],
   "source": [
    "def largest_subarray_sum(lst):\n",
    "    max_sum=current_sum=lst[0]\n",
    "    for i in lst[1:]:\n",
    "        current_sum=max(i,current_sum+i)\n",
    "        max_sum=max(max_sum,current_sum)\n",
    "    return max_sum\n",
    "list1 = [-2, 1, -3, 4, -1, 2, 1, -5, 4]\n",
    "print(\"The list is : \", list1)\n",
    "print(\"The largest subarray sum is : \", largest_subarray_sum(list1))"
   ]
  },
  {
   "cell_type": "markdown",
   "metadata": {},
   "source": [
    "to find the peak element in the list (element which is greater than or equal to its neighbour)"
   ]
  },
  {
   "cell_type": "code",
   "execution_count": 33,
   "metadata": {},
   "outputs": [
    {
     "name": "stdout",
     "output_type": "stream",
     "text": [
      "Peak element: 6\n"
     ]
    }
   ],
   "source": [
    "def find_peak_element(lst):\n",
    "    left, right = 0, len(lst) - 1\n",
    "    while left < right:\n",
    "        mid = left+(right-left) // 2\n",
    "        if lst[mid] < lst[mid + 1]:\n",
    "            left = mid+1\n",
    "        else:\n",
    "            right = mid \n",
    "    return left\n",
    "\n",
    "\n",
    "list1 = [1,2,1,3,5,6,4]\n",
    "peak_element = find_peak_element(list1)\n",
    "print(\"Peak element:\", list1[peak_element])\n"
   ]
  },
  {
   "cell_type": "markdown",
   "metadata": {},
   "source": [
    "to merge two sorted list into a single sorted list"
   ]
  },
  {
   "cell_type": "code",
   "execution_count": 15,
   "metadata": {},
   "outputs": [
    {
     "name": "stdout",
     "output_type": "stream",
     "text": [
      "[1, 2, 3, 4, 5, 6, 7, 8, 9, 10]\n"
     ]
    }
   ],
   "source": [
    "list1 = [1, 3, 5, 7, 9]\n",
    "list2 = [2, 4, 6, 8, 10]\n",
    "def MergeSortedLists(list1, list2):\n",
    "    i = j = 0\n",
    "    m=[]\n",
    "    while i < len(list1) and j < len(list2):\n",
    "        if list1[i]<list2[j]:\n",
    "            m.append(list1[i])\n",
    "            i+=1\n",
    "        else:\n",
    "            m.append(list2[j])\n",
    "            j+=1\n",
    "    m = m + list1[i:] + list2[j:]\n",
    "    return m\n",
    "print(MergeSortedLists(list1, list2))\n",
    "\n"
   ]
  },
  {
   "cell_type": "markdown",
   "metadata": {},
   "source": [
    "intersection and union"
   ]
  },
  {
   "cell_type": "code",
   "execution_count": 11,
   "metadata": {},
   "outputs": [
    {
     "name": "stdout",
     "output_type": "stream",
     "text": [
      "Intersection:  [4, 5, 6]\n",
      "Union:  [1, 2, 3, 4, 5, 6, 7, 8, 9, 10]\n"
     ]
    }
   ],
   "source": [
    "list11=[1,2,3,4,5,6]\n",
    "list12=[4,5,6,7,8,9,10]\n",
    "def list_intersection(lst11, lst12):\n",
    "    return list(set(lst11) & set(lst12))\n",
    "print(\"Intersection: \",list_intersection(list11, list12))\n",
    "def list_union(lst11, lst12):\n",
    "    return list(set(lst11) | set(lst12))\n",
    "print(\"Union: \",list_union(list11, list12))"
   ]
  }
 ],
 "metadata": {
  "kernelspec": {
   "display_name": "Python 3",
   "language": "python",
   "name": "python3"
  },
  "language_info": {
   "codemirror_mode": {
    "name": "ipython",
    "version": 3
   },
   "file_extension": ".py",
   "mimetype": "text/x-python",
   "name": "python",
   "nbconvert_exporter": "python",
   "pygments_lexer": "ipython3",
   "version": "3.12.0"
  }
 },
 "nbformat": 4,
 "nbformat_minor": 2
}
