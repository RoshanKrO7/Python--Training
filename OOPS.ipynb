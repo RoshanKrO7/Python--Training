{
 "cells": [
  {
   "cell_type": "markdown",
   "metadata": {},
   "source": [
    "Class is a group of methods and variables\n",
    "\n",
    "objects are real world entity; who has attributes\n",
    "constructor is used to construct the variables or allocate memory for the variable"
   ]
  },
  {
   "cell_type": "markdown",
   "metadata": {},
   "source": []
  },
  {
   "cell_type": "code",
   "execution_count": 7,
   "metadata": {},
   "outputs": [],
   "source": [
    "class car:\n",
    "    color=\"red\"\n",
    "    engine=\"1000\"\n",
    "    \n",
    "    def drive(self):\n",
    "        print(\"Car is being driven\")\n",
    "alto=car()\n",
    "volkswagon=car()\n"
   ]
  },
  {
   "cell_type": "code",
   "execution_count": 5,
   "metadata": {},
   "outputs": [],
   "source": [
    "class BankAccount:\n",
    "\n",
    "    def __init__(self,account_number,balance): \n",
    "        self.account_number=account_number\n",
    "        self.balance=balance\n",
    "    \n",
    "    def deposit(self, amount):\n",
    "        self.balance+=amount    \n",
    "    def withdraw(self,amount):\n",
    "        if amount<=self.balance:\n",
    "            self.balance-=amount\n",
    "        else:\n",
    "            print(\"Insufficient Balance\")\n",
    "    def get_balance(self):\n",
    "        return self.balance\n"
   ]
  },
  {
   "cell_type": "code",
   "execution_count": null,
   "metadata": {},
   "outputs": [],
   "source": []
  }
 ],
 "metadata": {
  "kernelspec": {
   "display_name": "Python 3",
   "language": "python",
   "name": "python3"
  },
  "language_info": {
   "codemirror_mode": {
    "name": "ipython",
    "version": 3
   },
   "file_extension": ".py",
   "mimetype": "text/x-python",
   "name": "python",
   "nbconvert_exporter": "python",
   "pygments_lexer": "ipython3",
   "version": "3.11.9"
  }
 },
 "nbformat": 4,
 "nbformat_minor": 2
}
